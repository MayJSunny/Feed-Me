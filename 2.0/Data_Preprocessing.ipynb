{
 "cells": [
  {
   "cell_type": "code",
   "execution_count": 6,
   "metadata": {},
   "outputs": [],
   "source": [
    "import os\n",
    "import numpy as np\n",
    "import pandas as pd\n",
    "import matplotlib.pylab as plt\n",
    "import seaborn as sns\n",
    "import warnings\n",
    "from IPython.display import clear_output\n",
    "\n",
    "import torch\n",
    "import torchvision.models as models\n",
    "import torch.optim as optim\n",
    "import torch.nn as nn\n",
    "from torch.optim import lr_scheduler\n",
    "import torch.nn.functional as F\n",
    "import time\n",
    "import copy\n",
    "from PIL import Image\n",
    "from PIL import ImageFile\n",
    "ImageFile.LOAD_TRUNCATED_IMAGES = True"
   ]
  },
  {
   "cell_type": "code",
   "execution_count": 7,
   "metadata": {},
   "outputs": [
    {
     "name": "stderr",
     "output_type": "stream",
     "text": [
      "/anaconda3/lib/python3.6/site-packages/PIL/TiffImagePlugin.py:756: UserWarning: Corrupt EXIF data.  Expecting to read 2 bytes but only got 0. \n",
      "  warnings.warn(str(msg))\n",
      "/anaconda3/lib/python3.6/site-packages/PIL/TiffImagePlugin.py:756: UserWarning: Corrupt EXIF data.  Expecting to read 4 bytes but only got 0. \n",
      "  warnings.warn(str(msg))\n",
      "/anaconda3/lib/python3.6/site-packages/PIL/TiffImagePlugin.py:739: UserWarning: Possibly corrupt EXIF data.  Expecting to read 8 bytes but only got 4. Skipping tag 41486\n",
      "  \" Skipping tag %s\" % (size, len(data), tag))\n",
      "/anaconda3/lib/python3.6/site-packages/PIL/TiffImagePlugin.py:739: UserWarning: Possibly corrupt EXIF data.  Expecting to read 8 bytes but only got 0. Skipping tag 41487\n",
      "  \" Skipping tag %s\" % (size, len(data), tag))\n"
     ]
    }
   ],
   "source": [
    "#Collect all pre-processed images from .anat directories\n",
    "img_list = []\n",
    "\n",
    "sample_size = 0\n",
    "root_path = \"train_data\"\n",
    "for i in range(3):\n",
    "    dir_name = root_path + \"/\" + str(i)\n",
    "    img_directories = [x for x in os.listdir(dir_name)]\n",
    "    img_dict = {}\n",
    "    for img_directory in img_directories:\n",
    "        img_array = []\n",
    "        for n in range(200):\n",
    "            if n < 10:\n",
    "                img_id = \"00000\" + str(n)\n",
    "            elif n < 100:\n",
    "                img_id = \"0000\" + str(n)\n",
    "            else:\n",
    "                img_id = \"000\" + str(n)\n",
    "            file_name = dir_name + '/' + img_directory + '/' + img_id + '.jpg'\n",
    "            \n",
    "            if img_directory != '.DS_Store' and os.path.exists(file_name):\n",
    "                img = Image.open(file_name)\n",
    "                img = img.resize((224, 224),Image.ANTIALIAS)\n",
    "                img_np = np.array(img)\n",
    "                img_array.append(img_np)\n",
    "                \n",
    "        if img_directory not in img_dict:\n",
    "            img_dict.setdefault(img_directory) \n",
    "        img_dict[img_directory]= img_array\n",
    "    img_list.append(img_dict)\n"
   ]
  },
  {
   "cell_type": "code",
   "execution_count": 10,
   "metadata": {},
   "outputs": [
    {
     "name": "stdout",
     "output_type": "stream",
     "text": [
      "13969 13969 13969\n",
      "torch.Size([13969, 224, 224, 3])\n",
      "torch.Size([13969])\n"
     ]
    }
   ],
   "source": [
    "label = 0\n",
    "for n in range(1,2):\n",
    "    x, y,labels = [],[],[]\n",
    "    for key,value in img_list[n].items():\n",
    "        imgs = [elem for elem in value if elem.shape == (224,224,3)]\n",
    "        if len(imgs) > 0:\n",
    "            x += imgs \n",
    "            y += [label for i in range(len(imgs))]\n",
    "            labels += [key for i in range(len(imgs))]\n",
    "            label += 1\n",
    "    print(len(x),len(y),len(labels))\n",
    "    \n",
    "\n",
    "    x = torch.Tensor(np.asarray(x))\n",
    "    x_file_name = \"imgs\" + str(n) + \".pt\"\n",
    "    torch.save(x, x_file_name)\n",
    "    print(x.shape)\n",
    "    \n",
    "    y = torch.Tensor(np.asarray(y))\n",
    "    y_file_name = \"y\" + str(n) + \".pt\"\n",
    "    torch.save(y, y_file_name)\n",
    "    print(y.shape)\n",
    "    \n",
    "#     labels = torch.Tensor(np.asarray(labels))\n",
    "#     labels_file_name = \"labels\" + str(n) + \".pt\"\n",
    "#     torch.save(labels, labels_file_name)\n",
    "#     print(labels.shape)\n"
   ]
  },
  {
   "cell_type": "code",
   "execution_count": null,
   "metadata": {},
   "outputs": [],
   "source": []
  }
 ],
 "metadata": {
  "kernelspec": {
   "display_name": "Python 3",
   "language": "python",
   "name": "python3"
  },
  "language_info": {
   "codemirror_mode": {
    "name": "ipython",
    "version": 3
   },
   "file_extension": ".py",
   "mimetype": "text/x-python",
   "name": "python",
   "nbconvert_exporter": "python",
   "pygments_lexer": "ipython3",
   "version": "3.6.5"
  }
 },
 "nbformat": 4,
 "nbformat_minor": 2
}
